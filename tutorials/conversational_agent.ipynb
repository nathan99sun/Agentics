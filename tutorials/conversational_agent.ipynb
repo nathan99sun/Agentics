{
 "cells": [
  {
   "cell_type": "markdown",
   "id": "0",
   "metadata": {},
   "source": [
    "## Initialize environment\n",
    "\n",
    "Note: Before executing this notebook on colab, copy your .env file in /content/drive/MyDrive/.env or otherwise you'll be prompted to enter your GEMINI_API_KEY all the times."
   ]
  },
  {
   "cell_type": "code",
   "execution_count": 1,
   "id": "c2f4e70d",
   "metadata": {},
   "outputs": [
    {
     "name": "stdout",
     "output_type": "stream",
     "text": [
      "\u001b[2mUsing Python 3.12.12 environment at: /Users/nathansun/opt/anaconda3/envs/agentics\u001b[0m\n",
      "\u001b[2mAudited \u001b[1m1 package\u001b[0m \u001b[2min 141ms\u001b[0m\u001b[0m\n",
      "\u001b[2mUsing Python 3.12.12 environment at: /Users/nathansun/opt/anaconda3/envs/agentics\u001b[0m\n",
      "\u001b[2mAudited \u001b[1m1 package\u001b[0m \u001b[2min 17ms\u001b[0m\u001b[0m\n",
      "In Colab: False\n"
     ]
    }
   ],
   "source": [
    "! uv pip install agentics-py\n",
    "! uv pip install 'crewai[tools]'\n",
    "\n",
    "import os\n",
    "import sys\n",
    "from getpass import getpass\n",
    "\n",
    "from dotenv import find_dotenv, load_dotenv\n",
    "\n",
    "CURRENT_PATH = \"\"\n",
    "\n",
    "IN_COLAB = \"google.colab\" in sys.modules\n",
    "print(\"In Colab:\", IN_COLAB)\n",
    "\n",
    "\n",
    "if IN_COLAB:\n",
    "    CURRENT_PATH = \"/content/drive/MyDrive/\"\n",
    "    # Mount your google drive\n",
    "    from google.colab import drive\n",
    "\n",
    "    drive.mount(\"/content/drive\")\n",
    "    load_dotenv(\"/content/drive/MyDrive/.env\")\n",
    "else:\n",
    "    load_dotenv(find_dotenv())\n",
    "\n",
    "if not os.getenv(\"GEMINI_API_KEY\"):\n",
    "    os.environ[\"GEMINI_API_KEY\"] = getpass(\"Enter your GEMINI_API_KEY:\")"
   ]
  },
  {
   "cell_type": "markdown",
   "id": "2",
   "metadata": {},
   "source": [
    "## Create a new tool\n",
    "Wrap the Duck Duck Go Search API call into a CrewAI tool using the @tool decorator. Similarly you can turn any function of your choice into a tool. "
   ]
  },
  {
   "cell_type": "code",
   "execution_count": 2,
   "id": "3",
   "metadata": {},
   "outputs": [],
   "source": [
    "from ddgs import DDGS\n",
    "from crewai.tools import tool\n",
    "\n",
    "\n",
    "## Define a Crew AI tool to get news for a given date using the DDGS search engine\n",
    "@tool(\"web_earch\")\n",
    "def web_search(query: str) -> str:\n",
    "    \"\"\"Fetch web search results for the given query using DDGS.\"\"\"\n",
    "    return str(DDGS().text(query, max_results=10))"
   ]
  },
  {
   "cell_type": "markdown",
   "id": "4",
   "metadata": {},
   "source": [
    "## Define your agent, task and crew\n",
    "\n",
    "Note that the agent is provided with memory = True This provides the agent with conversation history. By activating memory=True in the crew, we make sure that the agents persists across multiple crew session calls, with different input states. "
   ]
  },
  {
   "cell_type": "code",
   "execution_count": 5,
   "id": "5",
   "metadata": {},
   "outputs": [],
   "source": [
    "from crewai import Agent, Task, Crew, Process\n",
    "from agentics import AG\n",
    "\n",
    "# Create a conversational agent with a friendly role/goal\n",
    "# chat_agent = Agent(\n",
    "#     role=\"Helpful Assistant\",\n",
    "#     goal=\"Have a natural multi-turn conversation\",\n",
    "#     backstory=\"You are a friendly assistant that remembers context and asks for clarification when needed.\",\n",
    "#     llm=AG.get_llm_provider(),\n",
    "#     memory=True,  # enable memory for conversational context.\n",
    "# )\n",
    "\n",
    "# # Define a simple Task that represents a single AI response\n",
    "# task = Task(\n",
    "#     description=\"Respond appropriately to user's message, maintaining context. {input}\",\n",
    "#     expected_output=\"A conversational reply\",\n",
    "#     agent=chat_agent,\n",
    "#     tools=[web_search],\n",
    "# )\n",
    "\n",
    "chat_agent = Agent(\n",
    "    role=\"Fundamental Analyst\",\n",
    "    goal=\"Use provided firm data to accurately predict future stock returns.\",\n",
    "    backstory=\"\"\"\n",
    "    As a fundamental financial equity\n",
    "analyst your primary responsibility is to analyze the most\n",
    "recent report of firm characteristics for all firms in the S&P 500. Some example features are firm size, book-to-market, and momentum.\n",
    "Keep checking if you\n",
    "have answered the users’ question to avoid looping.\"\"\",\n",
    "    llm=AG.get_llm_provider(),\n",
    "    memory=True,  # enable memory for conversational context.\n",
    ")\n",
    "\n",
    "# Define a simple Task that represents a single AI response\n",
    "task = Task(\n",
    "    description=\"Respond appropriately to user's message, maintaining context. {input}\",\n",
    "    expected_output=\"A detailed explanation behind the reasoning of the choices\",\n",
    "    agent=chat_agent,\n",
    "    tools=[web_search],\n",
    ")\n",
    "\n",
    "crew = Crew(\n",
    "    agents=[chat_agent],\n",
    "    tasks=[task],\n",
    "    memory=False,  # ensure conversation state persists across turns\n",
    ")"
   ]
  },
  {
   "cell_type": "markdown",
   "id": "6",
   "metadata": {},
   "source": [
    "## Run the crew in a conversation loop\n",
    "Since memory has been set to True, the crew will get access to the previous round of conversations, exibiting a conversational behaviour"
   ]
  },
  {
   "cell_type": "code",
   "execution_count": 6,
   "id": "6316ff36",
   "metadata": {},
   "outputs": [
    {
     "name": "stdin",
     "output_type": "stream",
     "text": [
      "USER:  the book to market of a firm is increasing over time; what can you say about its stock price?\n"
     ]
    },
    {
     "name": "stdout",
     "output_type": "stream",
     "text": [
      "USER: the book to market of a firm is increasing over time; what can you say about its stock price?\n",
      "AI: When the book-to-market ratio of a firm is increasing over time, it most commonly implies that its **stock price has been decreasing**.\n",
      "\n",
      "Here is a detailed explanation of the reasoning behind this conclusion from a fundamental analyst's perspective:\n",
      "\n",
      "### 1. Understanding the Book-to-Market Ratio\n",
      "\n",
      "The book-to-market (B/M) ratio is a key financial metric used to find undervalued companies. It is calculated as follows:\n",
      "\n",
      "**Book-to-Market Ratio = Book Value of Equity / Market Value of Equity**\n",
      "\n",
      "*   **Book Value of Equity:** This is the company's net asset value as reported on its balance sheet (Total Assets - Total Liabilities). It is an accounting measure that reflects the historical cost of assets and accumulated profits. Book value typically changes slowly, quarter by quarter, as a company retains earnings or issues/repurchases shares.\n",
      "*   **Market Value of Equity (Market Capitalization):** This is the current value of the company as determined by the stock market. It is calculated by multiplying the current stock price by the number of outstanding shares. Market value is forward-looking and can be highly volatile, changing daily based on investor sentiment, earnings expectations, and economic news.\n",
      "\n",
      "### 2. The Mechanics of an Increasing Ratio\n",
      "\n",
      "For the B/M ratio to increase, the numerator (Book Value) must be growing faster than the denominator (Market Value), or the denominator must be shrinking faster than the numerator.\n",
      "\n",
      "Given the relative stability of book value compared to the high volatility of market value, the most frequent and significant driver of a rising B/M ratio is a **decline in the market value**. Since market value is a direct function of the stock price, a falling market value means a falling stock price.\n",
      "\n",
      "**Example:**\n",
      "Imagine a company has a Book Value of $1 billion and a Market Value of $2 billion.\n",
      "*   The B/M ratio is $1B / $2B = 0.5.\n",
      "\n",
      "If, over the next year, the stock price falls by 50% while the book value remains relatively stable, the new Market Value is $1 billion.\n",
      "*   The new B/M ratio is $1B / $1B = 1.0.\n",
      "\n",
      "The ratio has increased from 0.5 to 1.0, driven entirely by the collapse in the stock price.\n",
      "\n",
      "### 3. What This Tells a Fundamental Analyst\n",
      "\n",
      "An increasing book-to-market ratio is a strong signal about market perception and a firm's classification:\n",
      "\n",
      "*   **Negative Market Sentiment:** A falling stock price indicates that investors are becoming more pessimistic about the company's future prospects. They may be concerned about declining future earnings, increased competition, poor management, or industry headwinds. The market is pricing in lower growth expectations than it did previously.\n",
      "*   **Shift Towards a \"Value\" Stock:** In financial analysis, stocks are often categorized on a spectrum from \"growth\" to \"value.\"\n",
      "    *   **Growth Stocks** have low B/M ratios because their market value is much higher than their book value, reflecting high expectations for future growth.\n",
      "    *   **Value Stocks** have high B/M ratios, suggesting the market is undervaluing them relative to their net assets.\n",
      "    An increasing B/M ratio indicates the stock is moving away from the \"growth\" category and deeper into the \"value\" category. The market considers it \"cheaper\" than before.\n",
      "*   **Potential for Higher Future Returns:** While an increasing B/M ratio is a result of poor past stock performance, it can signal an opportunity for future gains. The \"value premium,\" a concept identified in the Fama-French three-factor model, suggests that, over the long term, stocks with high B/M ratios have historically generated higher average returns than stocks with low B/M ratios. An analyst might see an increasing B/M ratio as a signal that a stock has become oversold and may be a potential bargain if its underlying business fundamentals remain strong.\n",
      "\n",
      "In summary, an increasing book-to-market ratio is a clear indication that a company's stock price has been underperforming the growth in its net accounting assets, with a falling stock price being the primary cause. This reflects negative market sentiment but may also signal to a value-oriented analyst that the stock is becoming attractively priced.\n"
     ]
    },
    {
     "ename": "KeyboardInterrupt",
     "evalue": "Interrupted by user",
     "output_type": "error",
     "traceback": [
      "\u001b[31m---------------------------------------------------------------------------\u001b[39m",
      "\u001b[31mKeyboardInterrupt\u001b[39m                         Traceback (most recent call last)",
      "\u001b[36mCell\u001b[39m\u001b[36m \u001b[39m\u001b[32mIn[6]\u001b[39m\u001b[32m, line 2\u001b[39m\n\u001b[32m      1\u001b[39m conversation = \u001b[33m\"\u001b[39m\u001b[33m\"\u001b[39m\n\u001b[32m----> \u001b[39m\u001b[32m2\u001b[39m \u001b[38;5;28;01mwhile\u001b[39;00m user_input := \u001b[38;5;28;43minput\u001b[39;49m\u001b[43m(\u001b[49m\u001b[33;43m\"\u001b[39;49m\u001b[33;43mUSER: \u001b[39;49m\u001b[33;43m\"\u001b[39;49m\u001b[43m)\u001b[49m.strip():\n\u001b[32m      3\u001b[39m     \u001b[38;5;28mprint\u001b[39m(\u001b[33m\"\u001b[39m\u001b[33mUSER:\u001b[39m\u001b[33m\"\u001b[39m, user_input)\n\u001b[32m      4\u001b[39m     result = crew.kickoff(inputs={\u001b[33m\"\u001b[39m\u001b[33minput\u001b[39m\u001b[33m\"\u001b[39m: conversation + user_input})\n",
      "\u001b[36mFile \u001b[39m\u001b[32m~/opt/anaconda3/envs/agentics/lib/python3.12/site-packages/ipykernel/kernelbase.py:1473\u001b[39m, in \u001b[36mKernel.raw_input\u001b[39m\u001b[34m(self, prompt)\u001b[39m\n\u001b[32m   1471\u001b[39m     msg = \u001b[33m\"\u001b[39m\u001b[33mraw_input was called, but this frontend does not support input requests.\u001b[39m\u001b[33m\"\u001b[39m\n\u001b[32m   1472\u001b[39m     \u001b[38;5;28;01mraise\u001b[39;00m StdinNotImplementedError(msg)\n\u001b[32m-> \u001b[39m\u001b[32m1473\u001b[39m \u001b[38;5;28;01mreturn\u001b[39;00m \u001b[38;5;28;43mself\u001b[39;49m\u001b[43m.\u001b[49m\u001b[43m_input_request\u001b[49m\u001b[43m(\u001b[49m\n\u001b[32m   1474\u001b[39m \u001b[43m    \u001b[49m\u001b[38;5;28;43mstr\u001b[39;49m\u001b[43m(\u001b[49m\u001b[43mprompt\u001b[49m\u001b[43m)\u001b[49m\u001b[43m,\u001b[49m\n\u001b[32m   1475\u001b[39m \u001b[43m    \u001b[49m\u001b[38;5;28;43mself\u001b[39;49m\u001b[43m.\u001b[49m\u001b[43m_shell_parent_ident\u001b[49m\u001b[43m.\u001b[49m\u001b[43mget\u001b[49m\u001b[43m(\u001b[49m\u001b[43m)\u001b[49m\u001b[43m,\u001b[49m\n\u001b[32m   1476\u001b[39m \u001b[43m    \u001b[49m\u001b[38;5;28;43mself\u001b[39;49m\u001b[43m.\u001b[49m\u001b[43mget_parent\u001b[49m\u001b[43m(\u001b[49m\u001b[33;43m\"\u001b[39;49m\u001b[33;43mshell\u001b[39;49m\u001b[33;43m\"\u001b[39;49m\u001b[43m)\u001b[49m\u001b[43m,\u001b[49m\n\u001b[32m   1477\u001b[39m \u001b[43m    \u001b[49m\u001b[43mpassword\u001b[49m\u001b[43m=\u001b[49m\u001b[38;5;28;43;01mFalse\u001b[39;49;00m\u001b[43m,\u001b[49m\n\u001b[32m   1478\u001b[39m \u001b[43m\u001b[49m\u001b[43m)\u001b[49m\n",
      "\u001b[36mFile \u001b[39m\u001b[32m~/opt/anaconda3/envs/agentics/lib/python3.12/site-packages/ipykernel/kernelbase.py:1518\u001b[39m, in \u001b[36mKernel._input_request\u001b[39m\u001b[34m(self, prompt, ident, parent, password)\u001b[39m\n\u001b[32m   1515\u001b[39m \u001b[38;5;28;01mexcept\u001b[39;00m \u001b[38;5;167;01mKeyboardInterrupt\u001b[39;00m:\n\u001b[32m   1516\u001b[39m     \u001b[38;5;66;03m# re-raise KeyboardInterrupt, to truncate traceback\u001b[39;00m\n\u001b[32m   1517\u001b[39m     msg = \u001b[33m\"\u001b[39m\u001b[33mInterrupted by user\u001b[39m\u001b[33m\"\u001b[39m\n\u001b[32m-> \u001b[39m\u001b[32m1518\u001b[39m     \u001b[38;5;28;01mraise\u001b[39;00m \u001b[38;5;167;01mKeyboardInterrupt\u001b[39;00m(msg) \u001b[38;5;28;01mfrom\u001b[39;00m\u001b[38;5;250m \u001b[39m\u001b[38;5;28;01mNone\u001b[39;00m\n\u001b[32m   1519\u001b[39m \u001b[38;5;28;01mexcept\u001b[39;00m \u001b[38;5;167;01mException\u001b[39;00m:\n\u001b[32m   1520\u001b[39m     \u001b[38;5;28mself\u001b[39m.log.warning(\u001b[33m\"\u001b[39m\u001b[33mInvalid Message:\u001b[39m\u001b[33m\"\u001b[39m, exc_info=\u001b[38;5;28;01mTrue\u001b[39;00m)\n",
      "\u001b[31mKeyboardInterrupt\u001b[39m: Interrupted by user"
     ]
    }
   ],
   "source": [
    "conversation = \"\"\n",
    "while user_input := input(\"USER: \").strip():\n",
    "    print(\"USER:\", user_input)\n",
    "    result = crew.kickoff(inputs={\"input\": conversation + user_input})\n",
    "    print(\"AI:\", result)\n",
    "    conversation += f\"User>{user_input}\\nAI>{result}\\n\""
   ]
  },
  {
   "cell_type": "code",
   "execution_count": null,
   "id": "ed34db6b-d1a5-41e3-9113-d7f1c7557316",
   "metadata": {},
   "outputs": [],
   "source": []
  }
 ],
 "metadata": {
  "kernelspec": {
   "display_name": "Python 3 (ipykernel)",
   "language": "python",
   "name": "python3"
  },
  "language_info": {
   "codemirror_mode": {
    "name": "ipython",
    "version": 3
   },
   "file_extension": ".py",
   "mimetype": "text/x-python",
   "name": "python",
   "nbconvert_exporter": "python",
   "pygments_lexer": "ipython3",
   "version": "3.12.12"
  }
 },
 "nbformat": 4,
 "nbformat_minor": 5
}
