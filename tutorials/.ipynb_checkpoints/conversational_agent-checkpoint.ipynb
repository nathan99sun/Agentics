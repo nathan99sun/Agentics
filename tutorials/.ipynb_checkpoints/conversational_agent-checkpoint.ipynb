{
 "cells": [
  {
   "cell_type": "markdown",
   "id": "0",
   "metadata": {},
   "source": [
    "## Initialize environment\n",
    "\n",
    "Note: Before executing this notebook on colab, copy your .env file in /content/drive/MyDrive/.env or otherwise you'll be prompted to enter your GEMINI_API_KEY all the times."
   ]
  },
  {
   "cell_type": "code",
   "execution_count": 1,
   "id": "c2f4e70d",
   "metadata": {},
   "outputs": [
    {
     "name": "stdout",
     "output_type": "stream",
     "text": [
      "\u001b[2mUsing Python 3.12.12 environment at: /Users/nathansun/opt/anaconda3/envs/agentics\u001b[0m\n",
      "\u001b[2mAudited \u001b[1m1 package\u001b[0m \u001b[2min 33ms\u001b[0m\u001b[0m\n",
      "\u001b[2mUsing Python 3.12.12 environment at: /Users/nathansun/opt/anaconda3/envs/agentics\u001b[0m\n",
      "\u001b[2mAudited \u001b[1m1 package\u001b[0m \u001b[2min 17ms\u001b[0m\u001b[0m\n",
      "In Colab: False\n"
     ]
    }
   ],
   "source": [
    "! uv pip install agentics-py\n",
    "! uv pip install 'crewai[tools]'\n",
    "\n",
    "import os\n",
    "import sys\n",
    "from getpass import getpass\n",
    "\n",
    "from dotenv import find_dotenv, load_dotenv\n",
    "\n",
    "CURRENT_PATH = \"\"\n",
    "\n",
    "IN_COLAB = \"google.colab\" in sys.modules\n",
    "print(\"In Colab:\", IN_COLAB)\n",
    "\n",
    "\n",
    "if IN_COLAB:\n",
    "    CURRENT_PATH = \"/content/drive/MyDrive/\"\n",
    "    # Mount your google drive\n",
    "    from google.colab import drive\n",
    "\n",
    "    drive.mount(\"/content/drive\")\n",
    "    load_dotenv(\"/content/drive/MyDrive/.env\")\n",
    "else:\n",
    "    load_dotenv(find_dotenv())\n",
    "\n",
    "if not os.getenv(\"GEMINI_API_KEY\"):\n",
    "    os.environ[\"GEMINI_API_KEY\"] = getpass(\"Enter your GEMINI_API_KEY:\")"
   ]
  },
  {
   "cell_type": "markdown",
   "id": "2",
   "metadata": {},
   "source": [
    "## Create a new tool\n",
    "Wrap the Duck Duck Go Search API call into a CrewAI tool using the @tool decorator. Similarly you can turn any function of your choice into a tool. "
   ]
  },
  {
   "cell_type": "code",
   "execution_count": 2,
   "id": "3",
   "metadata": {},
   "outputs": [],
   "source": [
    "from ddgs import DDGS\n",
    "from crewai.tools import tool\n",
    "\n",
    "\n",
    "## Define a Crew AI tool to get news for a given date using the DDGS search engine\n",
    "@tool(\"web_earch\")\n",
    "def web_search(query: str) -> str:\n",
    "    \"\"\"Fetch web search results for the given query using DDGS.\"\"\"\n",
    "    return str(DDGS().text(query, max_results=10))"
   ]
  },
  {
   "cell_type": "markdown",
   "id": "4",
   "metadata": {},
   "source": [
    "## Define your agent, task and crew\n",
    "\n",
    "Note that the agent is provided with memory = True This provides the agent with conversation history. By activating memory=True in the crew, we make sure that the agents persists across multiple crew session calls, with different input states. "
   ]
  },
  {
   "cell_type": "code",
   "execution_count": 3,
   "id": "5",
   "metadata": {},
   "outputs": [],
   "source": [
    "from crewai import Agent, Task, Crew, Process\n",
    "from agentics import AG\n",
    "\n",
    "# Create a conversational agent with a friendly role/goal\n",
    "# chat_agent = Agent(\n",
    "#     role=\"Helpful Assistant\",\n",
    "#     goal=\"Have a natural multi-turn conversation\",\n",
    "#     backstory=\"You are a friendly assistant that remembers context and asks for clarification when needed.\",\n",
    "#     llm=AG.get_llm_provider(),\n",
    "#     memory=True,  # enable memory for conversational context.\n",
    "# )\n",
    "\n",
    "# # Define a simple Task that represents a single AI response\n",
    "# task = Task(\n",
    "#     description=\"Respond appropriately to user's message, maintaining context. {input}\",\n",
    "#     expected_output=\"A conversational reply\",\n",
    "#     agent=chat_agent,\n",
    "#     tools=[web_search],\n",
    "# )\n",
    "\n",
    "chat_agent = Agent(\n",
    "    role=\"Fundamental Analyst\",\n",
    "    goal=\"Use provided firm data to accurately predict future stock returns.\",\n",
    "    backstory=\"\"\"\n",
    "    As a fundamental financial equity\n",
    "analyst your primary responsibility is to analyze the most\n",
    "recent report of firm characteristics for all firms in the S&P 500. Some example features are firm size, book-to-market, and momentum.\n",
    "Keep checking if you\n",
    "have answered the users’ question to avoid looping.\"\"\",\n",
    "    llm=AG.get_llm_provider(),\n",
    "    memory=True,  # enable memory for conversational context.\n",
    ")\n",
    "\n",
    "# Define a simple Task that represents a single AI response\n",
    "task = Task(\n",
    "    description=\"Respond appropriately to user's message, maintaining context. {input}\",\n",
    "    expected_output=\"A detailed explanation behind the reasoning of the choices\",\n",
    "    agent=chat_agent,\n",
    "    tools=[web_search],\n",
    ")\n",
    "\n",
    "crew = Crew(\n",
    "    agents=[chat_agent],\n",
    "    tasks=[task],\n",
    "    memory=False,  # ensure conversation state persists across turns\n",
    ")"
   ]
  },
  {
   "cell_type": "markdown",
   "id": "6",
   "metadata": {},
   "source": [
    "## Run the crew in a conversation loop\n",
    "Since memory has been set to True, the crew will get access to the previous round of conversations, exibiting a conversational behaviour"
   ]
  },
  {
   "cell_type": "code",
   "execution_count": 4,
   "id": "6316ff36",
   "metadata": {},
   "outputs": [
    {
     "name": "stdin",
     "output_type": "stream",
     "text": [
      "USER:  what is 1+1\n"
     ]
    },
    {
     "name": "stdout",
     "output_type": "stream",
     "text": [
      "USER: what is 1+1\n",
      "AI: 1 + 1 = 2\n"
     ]
    },
    {
     "name": "stderr",
     "output_type": "stream",
     "text": [
      "\n",
      "KeyboardInterrupt\n",
      "\n"
     ]
    }
   ],
   "source": [
    "conversation = \"\"\n",
    "while user_input := input(\"USER: \").strip():\n",
    "    print(\"USER:\", user_input)\n",
    "    result = crew.kickoff(inputs={\"input\": conversation + user_input})\n",
    "    print(\"AI:\", result)\n",
    "    conversation += f\"User>{user_input}\\nAI>{result}\\n\""
   ]
  },
  {
   "cell_type": "code",
   "execution_count": null,
   "id": "ed34db6b-d1a5-41e3-9113-d7f1c7557316",
   "metadata": {},
   "outputs": [],
   "source": []
  }
 ],
 "metadata": {
  "kernelspec": {
   "display_name": "Python 3 (ipykernel)",
   "language": "python",
   "name": "python3"
  },
  "language_info": {
   "codemirror_mode": {
    "name": "ipython",
    "version": 3
   },
   "file_extension": ".py",
   "mimetype": "text/x-python",
   "name": "python",
   "nbconvert_exporter": "python",
   "pygments_lexer": "ipython3",
   "version": "3.12.12"
  }
 },
 "nbformat": 4,
 "nbformat_minor": 5
}
